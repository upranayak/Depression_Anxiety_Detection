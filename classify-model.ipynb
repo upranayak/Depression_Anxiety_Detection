{
 "cells": [
  {
   "cell_type": "code",
   "execution_count": null,
   "metadata": {
    "execution": {
     "iopub.execute_input": "2022-11-13T09:19:13.068659Z",
     "iopub.status.busy": "2022-11-13T09:19:13.068259Z",
     "iopub.status.idle": "2022-11-13T09:19:13.079103Z",
     "shell.execute_reply": "2022-11-13T09:19:13.077435Z",
     "shell.execute_reply.started": "2022-11-13T09:19:13.068605Z"
    }
   },
   "outputs": [],
   "source": [
    "\n",
    "\n",
    "import pandas as pd\n",
    "import numpy as np\n",
    "import matplotlib.pyplot as plt\n",
    "import seaborn as sns\n",
    "sns.set()\n",
    "\n",
    "import re\n",
    "import string\n",
    "from wordcloud import WordCloud\n",
    "from collections import Counter\n",
    "\n",
    "import warnings\n",
    "warnings.filterwarnings('ignore')\n",
    "\n",
    "from nltk import sent_tokenize, word_tokenize\n",
    "from nltk.corpus import stopwords\n",
    "from nltk.stem import PorterStemmer\n",
    "\n",
    "from sklearn.feature_extraction.text import TfidfVectorizer\n",
    "from sklearn.model_selection import train_test_split\n",
    "from sklearn.naive_bayes import MultinomialNB\n",
    "from sklearn.ensemble import RandomForestClassifier\n",
    "\n",
    "from sklearn.metrics import accuracy_score, precision_score, recall_score, f1_score\n",
    "\n",
    "from scikitplot.metrics import plot_confusion_matrix, plot_roc"
   ]
  },
  {
   "cell_type": "code",
   "execution_count": null,
   "metadata": {
    "execution": {
     "iopub.execute_input": "2022-11-13T09:19:13.284509Z",
     "iopub.status.busy": "2022-11-13T09:19:13.284029Z",
     "iopub.status.idle": "2022-11-13T09:19:14.035595Z",
     "shell.execute_reply": "2022-11-13T09:19:14.034211Z",
     "shell.execute_reply.started": "2022-11-13T09:19:13.284465Z"
    }
   },
   "outputs": [],
   "source": [
    "#code by \"Spam Classifier | NLP | 98% Accuracy \" by ANUBHAV GOYAL (https://www.kaggle.com/code/anubhavgoyal10/spam-classifier-nlp-98-accuracy)\n",
    "\n",
    "data = pd.read_excel('dataset.xlsx')\n",
    "data.head()"
   ]
  },
  {
   "cell_type": "code",
   "execution_count": null,
   "metadata": {
    "execution": {
     "iopub.execute_input": "2022-11-13T09:19:14.04032Z",
     "iopub.status.busy": "2022-11-13T09:19:14.039874Z",
     "iopub.status.idle": "2022-11-13T09:19:14.047098Z",
     "shell.execute_reply": "2022-11-13T09:19:14.045784Z",
     "shell.execute_reply.started": "2022-11-13T09:19:14.040273Z"
    }
   },
   "outputs": [],
   "source": [
    "#code by \"Spam Classifier | NLP | 98% Accuracy \" by ANUBHAV GOYAL (https://www.kaggle.com/code/anubhavgoyal10/spam-classifier-nlp-98-accuracy)\n",
    "\n",
    "print(data.shape)"
   ]
  },
  {
   "cell_type": "code",
   "execution_count": null,
   "metadata": {
    "execution": {
     "iopub.execute_input": "2022-11-13T09:19:14.050026Z",
     "iopub.status.busy": "2022-11-13T09:19:14.049334Z",
     "iopub.status.idle": "2022-11-13T09:19:14.063959Z",
     "shell.execute_reply": "2022-11-13T09:19:14.062772Z",
     "shell.execute_reply.started": "2022-11-13T09:19:14.049981Z"
    }
   },
   "outputs": [],
   "source": [
    "#code by \"Spam Classifier | NLP | 98% Accuracy \" by ANUBHAV GOYAL (https://www.kaggle.com/code/anubhavgoyal10/spam-classifier-nlp-98-accuracy)\n",
    "\n",
    "data.isnull().sum()"
   ]
  },
  {
   "cell_type": "code",
   "execution_count": null,
   "metadata": {
    "execution": {
     "iopub.execute_input": "2022-11-13T09:19:14.068174Z",
     "iopub.status.busy": "2022-11-13T09:19:14.067461Z",
     "iopub.status.idle": "2022-11-13T09:19:14.079315Z",
     "shell.execute_reply": "2022-11-13T09:19:14.077599Z",
     "shell.execute_reply.started": "2022-11-13T09:19:14.068142Z"
    }
   },
   "outputs": [],
   "source": [
    "#code by \"Spam Classifier | NLP | 98% Accuracy \" by ANUBHAV GOYAL (https://www.kaggle.com/code/anubhavgoyal10/spam-classifier-nlp-98-accuracy)\n",
    "\n",
    "data=data.dropna(how='any')"
   ]
  },
  {
   "cell_type": "code",
   "execution_count": null,
   "metadata": {
    "execution": {
     "iopub.execute_input": "2022-11-13T09:19:14.08212Z",
     "iopub.status.busy": "2022-11-13T09:19:14.081046Z",
     "iopub.status.idle": "2022-11-13T09:19:14.093737Z",
     "shell.execute_reply": "2022-11-13T09:19:14.092291Z",
     "shell.execute_reply.started": "2022-11-13T09:19:14.082067Z"
    }
   },
   "outputs": [],
   "source": [
    "#code by \"Spam Classifier | NLP | 98% Accuracy \" by ANUBHAV GOYAL (https://www.kaggle.com/code/anubhavgoyal10/spam-classifier-nlp-98-accuracy)\n",
    "\n",
    "data['label'].value_counts()"
   ]
  },
  {
   "cell_type": "code",
   "execution_count": null,
   "metadata": {
    "execution": {
     "iopub.execute_input": "2022-11-13T09:19:14.096759Z",
     "iopub.status.busy": "2022-11-13T09:19:14.096319Z",
     "iopub.status.idle": "2022-11-13T09:19:14.746195Z",
     "shell.execute_reply": "2022-11-13T09:19:14.745298Z",
     "shell.execute_reply.started": "2022-11-13T09:19:14.096721Z"
    }
   },
   "outputs": [],
   "source": [
    "#code by \"Spam Classifier | NLP | 98% Accuracy \" by ANUBHAV GOYAL (https://www.kaggle.com/code/anubhavgoyal10/spam-classifier-nlp-98-accuracy)\n",
    "\n",
    "labels = [0,1]\n",
    "sizes = [6240, 730]\n",
    "custom_colours = ['#ff7675', '#74b9ff']\n",
    "\n",
    "plt.figure(figsize=(20, 6), dpi=227)\n",
    "plt.subplot(1, 2, 1)\n",
    "plt.pie(sizes, labels = labels, textprops={'fontsize': 15}, startangle=140, \n",
    "       autopct='%1.0f%%', colors=custom_colours, explode=[0, 0.05])\n",
    "\n",
    "plt.subplot(1, 2, 2)\n",
    "sns.barplot(x = data['label'].unique(), y = data['label'].value_counts(), palette= 'viridis')\n",
    "\n",
    "plt.show()"
   ]
  },
  {
   "cell_type": "code",
   "execution_count": null,
   "metadata": {
    "execution": {
     "iopub.execute_input": "2022-11-13T09:19:14.751104Z",
     "iopub.status.busy": "2022-11-13T09:19:14.747439Z",
     "iopub.status.idle": "2022-11-13T09:19:14.803739Z",
     "shell.execute_reply": "2022-11-13T09:19:14.801886Z",
     "shell.execute_reply.started": "2022-11-13T09:19:14.751054Z"
    }
   },
   "outputs": [],
   "source": [
    "#code by \"Spam Classifier | NLP | 98% Accuracy \" by ANUBHAV GOYAL (https://www.kaggle.com/code/anubhavgoyal10/spam-classifier-nlp-98-accuracy)\n",
    "\n",
    "data['Total Words'] = data['text'].apply(lambda x: len(x.split()))\n",
    "\n",
    "def count_total_words(text):\n",
    "    char = 0\n",
    "    for word in text.split():\n",
    "        char += len(word)\n",
    "    return char\n",
    "\n",
    "data['Total Chars'] = data[\"text\"].apply(count_total_words)"
   ]
  },
  {
   "cell_type": "code",
   "execution_count": null,
   "metadata": {
    "execution": {
     "iopub.execute_input": "2022-11-13T09:19:14.807116Z",
     "iopub.status.busy": "2022-11-13T09:19:14.80586Z",
     "iopub.status.idle": "2022-11-13T09:19:14.821539Z",
     "shell.execute_reply": "2022-11-13T09:19:14.820239Z",
     "shell.execute_reply.started": "2022-11-13T09:19:14.807069Z"
    }
   },
   "outputs": [],
   "source": [
    "#code by \"Spam Classifier | NLP | 98% Accuracy \" by ANUBHAV GOYAL (https://www.kaggle.com/code/anubhavgoyal10/spam-classifier-nlp-98-accuracy)\n",
    "\n",
    "data.head()"
   ]
  },
  {
   "cell_type": "code",
   "execution_count": null,
   "metadata": {
    "execution": {
     "iopub.execute_input": "2022-11-13T09:19:14.824392Z",
     "iopub.status.busy": "2022-11-13T09:19:14.823259Z",
     "iopub.status.idle": "2022-11-13T09:19:15.134674Z",
     "shell.execute_reply": "2022-11-13T09:19:15.13368Z",
     "shell.execute_reply.started": "2022-11-13T09:19:14.824324Z"
    }
   },
   "outputs": [],
   "source": [
    "#code by \"Spam Classifier | NLP | 98% Accuracy \" by ANUBHAV GOYAL (https://www.kaggle.com/code/anubhavgoyal10/spam-classifier-nlp-98-accuracy)\n",
    "\n",
    "plt.figure(figsize = (10, 6))\n",
    "sns.kdeplot(x = data['Total Words'], hue= data['label'], palette= 'winter', shade = True)\n",
    "plt.show()"
   ]
  },
  {
   "cell_type": "code",
   "execution_count": null,
   "metadata": {
    "execution": {
     "iopub.execute_input": "2022-11-13T09:19:15.139578Z",
     "iopub.status.busy": "2022-11-13T09:19:15.13899Z",
     "iopub.status.idle": "2022-11-13T09:19:15.52069Z",
     "shell.execute_reply": "2022-11-13T09:19:15.519159Z",
     "shell.execute_reply.started": "2022-11-13T09:19:15.139544Z"
    }
   },
   "outputs": [],
   "source": [
    "#code by \"Spam Classifier | NLP | 98% Accuracy \" by ANUBHAV GOYAL (https://www.kaggle.com/code/anubhavgoyal10/spam-classifier-nlp-98-accuracy)\n",
    "\n",
    "plt.figure(figsize = (10, 6))\n",
    "sns.kdeplot(x = data['Total Chars'], hue= data['label'], palette= 'winter', shade = True)\n",
    "plt.show()"
   ]
  },
  {
   "cell_type": "code",
   "execution_count": null,
   "metadata": {
    "execution": {
     "iopub.execute_input": "2022-11-13T09:19:15.523004Z",
     "iopub.status.busy": "2022-11-13T09:19:15.522656Z",
     "iopub.status.idle": "2022-11-13T09:19:15.538961Z",
     "shell.execute_reply": "2022-11-13T09:19:15.53709Z",
     "shell.execute_reply.started": "2022-11-13T09:19:15.522974Z"
    }
   },
   "outputs": [],
   "source": [
    "#code by \"Spam Classifier | NLP | 98% Accuracy \" by ANUBHAV GOYAL (https://www.kaggle.com/code/anubhavgoyal10/spam-classifier-nlp-98-accuracy)\n",
    "\n",
    "data.head()"
   ]
  },
  {
   "cell_type": "code",
   "execution_count": null,
   "metadata": {
    "execution": {
     "iopub.execute_input": "2022-11-13T09:19:15.54108Z",
     "iopub.status.busy": "2022-11-13T09:19:15.540715Z",
     "iopub.status.idle": "2022-11-13T09:19:15.551897Z",
     "shell.execute_reply": "2022-11-13T09:19:15.550828Z",
     "shell.execute_reply.started": "2022-11-13T09:19:15.541051Z"
    }
   },
   "outputs": [],
   "source": [
    "#code by \"Spam Classifier | NLP | 98% Accuracy \" by ANUBHAV GOYAL (https://www.kaggle.com/code/anubhavgoyal10/spam-classifier-nlp-98-accuracy)\n",
    "\n",
    "def convert_lowercase(text):\n",
    "    text = text.lower()\n",
    "    return text\n",
    "\n",
    "data['text'] = data['text'].apply(convert_lowercase)"
   ]
  },
  {
   "cell_type": "code",
   "execution_count": null,
   "metadata": {
    "execution": {
     "iopub.execute_input": "2022-11-13T09:19:15.554222Z",
     "iopub.status.busy": "2022-11-13T09:19:15.553382Z",
     "iopub.status.idle": "2022-11-13T09:19:15.584469Z",
     "shell.execute_reply": "2022-11-13T09:19:15.58335Z",
     "shell.execute_reply.started": "2022-11-13T09:19:15.554188Z"
    }
   },
   "outputs": [],
   "source": [
    "#code by \"Spam Classifier | NLP | 98% Accuracy \" by ANUBHAV GOYAL (https://www.kaggle.com/code/anubhavgoyal10/spam-classifier-nlp-98-accuracy)\n",
    "\n",
    "def remove_url(text):\n",
    "    re_url = re.compile('https?://\\S+|www\\.\\S+')\n",
    "    return re_url.sub('', text)\n",
    "\n",
    "data['text'] = data['text'].apply(remove_url)"
   ]
  },
  {
   "cell_type": "code",
   "execution_count": null,
   "metadata": {
    "execution": {
     "iopub.execute_input": "2022-11-13T09:19:15.586041Z",
     "iopub.status.busy": "2022-11-13T09:19:15.585743Z",
     "iopub.status.idle": "2022-11-13T09:19:15.632219Z",
     "shell.execute_reply": "2022-11-13T09:19:15.631043Z",
     "shell.execute_reply.started": "2022-11-13T09:19:15.586015Z"
    }
   },
   "outputs": [],
   "source": [
    "#code by \"Spam Classifier | NLP | 98% Accuracy \" by ANUBHAV GOYAL (https://www.kaggle.com/code/anubhavgoyal10/spam-classifier-nlp-98-accuracy)\n",
    "\n",
    "exclude = string.punctuation\n",
    "\n",
    "def remove_punc(text):\n",
    "    return text.translate(str.maketrans('', '', exclude))\n",
    "\n",
    "data['text'] = data['text'].apply(remove_punc)"
   ]
  },
  {
   "cell_type": "code",
   "execution_count": null,
   "metadata": {
    "execution": {
     "iopub.execute_input": "2022-11-13T09:19:15.634119Z",
     "iopub.status.busy": "2022-11-13T09:19:15.633758Z",
     "iopub.status.idle": "2022-11-13T09:19:17.85961Z",
     "shell.execute_reply": "2022-11-13T09:19:17.85817Z",
     "shell.execute_reply.started": "2022-11-13T09:19:15.634087Z"
    }
   },
   "outputs": [],
   "source": [
    "#code by \"Spam Classifier | NLP | 98% Accuracy \" by ANUBHAV GOYAL (https://www.kaggle.com/code/anubhavgoyal10/spam-classifier-nlp-98-accuracy)\n",
    "\n",
    "def remove_stopwords(text):\n",
    "    new_list = []\n",
    "    words = word_tokenize(text)\n",
    "    stopwrds = stopwords.words('english')\n",
    "    for word in words:\n",
    "        if word not in stopwrds:\n",
    "            new_list.append(word)\n",
    "    return ' '.join(new_list)\n",
    "\n",
    "data['text'] = data['text'].apply(remove_stopwords)"
   ]
  },
  {
   "cell_type": "code",
   "execution_count": null,
   "metadata": {
    "execution": {
     "iopub.execute_input": "2022-11-13T09:19:17.861298Z",
     "iopub.status.busy": "2022-11-13T09:19:17.860982Z",
     "iopub.status.idle": "2022-11-13T09:19:20.105712Z",
     "shell.execute_reply": "2022-11-13T09:19:20.104454Z",
     "shell.execute_reply.started": "2022-11-13T09:19:17.861269Z"
    }
   },
   "outputs": [],
   "source": [
    "#code by \"Spam Classifier | NLP | 98% Accuracy \" by ANUBHAV GOYAL (https://www.kaggle.com/code/anubhavgoyal10/spam-classifier-nlp-98-accuracy)\n",
    "\n",
    "def perform_stemming(text):\n",
    "    stemmer = PorterStemmer()\n",
    "    new_list = []\n",
    "    words = word_tokenize(text)\n",
    "    for word in words:\n",
    "        new_list.append(stemmer.stem(word))\n",
    "\n",
    "    return \" \".join(new_list)\n",
    "\n",
    "data['text'] = data['text'].apply(perform_stemming)"
   ]
  },
  {
   "cell_type": "code",
   "execution_count": null,
   "metadata": {
    "execution": {
     "iopub.execute_input": "2022-11-13T09:19:20.108245Z",
     "iopub.status.busy": "2022-11-13T09:19:20.107738Z",
     "iopub.status.idle": "2022-11-13T09:19:20.134961Z",
     "shell.execute_reply": "2022-11-13T09:19:20.133777Z",
     "shell.execute_reply.started": "2022-11-13T09:19:20.108194Z"
    }
   },
   "outputs": [],
   "source": [
    "#code by \"Spam Classifier | NLP | 98% Accuracy \" by ANUBHAV GOYAL (https://www.kaggle.com/code/anubhavgoyal10/spam-classifier-nlp-98-accuracy)\n",
    "\n",
    "data['Total Words After Transformation'] = data['text'].apply(lambda x: np.log(len(x.split())))"
   ]
  },
  {
   "cell_type": "code",
   "execution_count": null,
   "metadata": {
    "execution": {
     "iopub.execute_input": "2022-11-13T09:19:20.136822Z",
     "iopub.status.busy": "2022-11-13T09:19:20.13642Z",
     "iopub.status.idle": "2022-11-13T09:19:20.151123Z",
     "shell.execute_reply": "2022-11-13T09:19:20.14972Z",
     "shell.execute_reply.started": "2022-11-13T09:19:20.136789Z"
    }
   },
   "outputs": [],
   "source": [
    "#code by \"Spam Classifier | NLP | 98% Accuracy \" by ANUBHAV GOYAL (https://www.kaggle.com/code/anubhavgoyal10/spam-classifier-nlp-98-accuracy)\n",
    "\n",
    "data.head()"
   ]
  },
  {
   "cell_type": "code",
   "execution_count": null,
   "metadata": {
    "execution": {
     "iopub.execute_input": "2022-11-13T09:19:20.153333Z",
     "iopub.status.busy": "2022-11-13T09:19:20.152577Z",
     "iopub.status.idle": "2022-11-13T09:19:27.030158Z",
     "shell.execute_reply": "2022-11-13T09:19:27.028998Z",
     "shell.execute_reply.started": "2022-11-13T09:19:20.153287Z"
    }
   },
   "outputs": [],
   "source": [
    "#code by \"Spam Classifier | NLP | 98% Accuracy \" by ANUBHAV GOYAL (https://www.kaggle.com/code/anubhavgoyal10/spam-classifier-nlp-98-accuracy)\n",
    "\n",
    "text = \" \".join(data[data['label'] == 0]['text'])\n",
    "plt.figure(figsize = (15, 10))\n",
    "wordcloud = WordCloud(max_words=500, height= 800, width = 1500,  background_color=\"black\", colormap= 'viridis').generate(text)\n",
    "plt.imshow(wordcloud, interpolation=\"bilinear\")\n",
    "plt.axis('off')\n",
    "plt.show()"
   ]
  },
  {
   "cell_type": "code",
   "execution_count": null,
   "metadata": {
    "execution": {
     "iopub.execute_input": "2022-11-13T09:19:27.032315Z",
     "iopub.status.busy": "2022-11-13T09:19:27.031938Z",
     "iopub.status.idle": "2022-11-13T09:19:32.716719Z",
     "shell.execute_reply": "2022-11-13T09:19:32.715183Z",
     "shell.execute_reply.started": "2022-11-13T09:19:27.03228Z"
    }
   },
   "outputs": [],
   "source": [
    "#code by \"Spam Classifier | NLP | 98% Accuracy \" by ANUBHAV GOYAL (https://www.kaggle.com/code/anubhavgoyal10/spam-classifier-nlp-98-accuracy)\n",
    "\n",
    "text = \" \".join(data[data['label'] == 1]['text'])\n",
    "plt.figure(figsize = (15, 10))\n",
    "wordcloud = WordCloud(max_words=500, height= 800, width = 1500,  background_color=\"black\", colormap= 'viridis').generate(text)\n",
    "plt.imshow(wordcloud, interpolation=\"bilinear\")\n",
    "plt.axis('off')\n",
    "plt.show()"
   ]
  },
  {
   "cell_type": "code",
   "execution_count": null,
   "metadata": {
    "execution": {
     "iopub.execute_input": "2022-11-13T09:19:32.718768Z",
     "iopub.status.busy": "2022-11-13T09:19:32.718371Z",
     "iopub.status.idle": "2022-11-13T09:19:33.176927Z",
     "shell.execute_reply": "2022-11-13T09:19:33.175762Z",
     "shell.execute_reply.started": "2022-11-13T09:19:32.718736Z"
    }
   },
   "outputs": [],
   "source": [
    "#code by \"Spam Classifier | NLP | 98% Accuracy \" by ANUBHAV GOYAL (https://www.kaggle.com/code/anubhavgoyal10/spam-classifier-nlp-98-accuracy)\n",
    "\n",
    "all_nodep_words = []\n",
    "for sentence in data[data['label'] == 0]['text'].to_list():\n",
    "    for word in sentence.split():\n",
    "        all_nodep_words.append(word)\n",
    "\n",
    "df = pd.DataFrame(Counter(all_nodep_words).most_common(25), columns= ['Word', 'Frequency'])\n",
    "\n",
    "sns.set_context('notebook', font_scale= 1.3)\n",
    "plt.figure(figsize=(18,8))\n",
    "sns.barplot(y = df['Word'], x= df['Frequency'], palette= 'summer')\n",
    "plt.title(\"Most Commonly Used Words When Not Depressed\")\n",
    "plt.xlabel(\"Frequnecy\")\n",
    "plt.ylabel(\"Words\")\n",
    "plt.show()"
   ]
  },
  {
   "cell_type": "code",
   "execution_count": null,
   "metadata": {
    "execution": {
     "iopub.execute_input": "2022-11-13T09:19:33.178992Z",
     "iopub.status.busy": "2022-11-13T09:19:33.178532Z",
     "iopub.status.idle": "2022-11-13T09:19:33.639992Z",
     "shell.execute_reply": "2022-11-13T09:19:33.638715Z",
     "shell.execute_reply.started": "2022-11-13T09:19:33.178948Z"
    }
   },
   "outputs": [],
   "source": [
    "#code by \"Spam Classifier | NLP | 98% Accuracy \" by ANUBHAV GOYAL (https://www.kaggle.com/code/anubhavgoyal10/spam-classifier-nlp-98-accuracy)\n",
    "\n",
    "all_dep_words = []\n",
    "for sentence in data[data['label'] == 1]['text'].to_list():\n",
    "    for word in sentence.split():\n",
    "        all_dep_words.append(word)\n",
    "\n",
    "df = pd.DataFrame(Counter(all_dep_words).most_common(25), columns= ['Word', 'Frequency'])\n",
    "\n",
    "sns.set_context('notebook', font_scale= 1.3)\n",
    "plt.figure(figsize=(18,8))\n",
    "sns.barplot(y = df['Word'], x= df['Frequency'], palette= 'summer')\n",
    "plt.title(\"Most Commonly Used Words When Depressed\")\n",
    "plt.xlabel(\"Frequnecy\")\n",
    "plt.ylabel(\"Words\")\n",
    "plt.show()"
   ]
  },
  {
   "cell_type": "code",
   "execution_count": null,
   "metadata": {
    "execution": {
     "iopub.execute_input": "2022-11-13T09:19:33.642873Z",
     "iopub.status.busy": "2022-11-13T09:19:33.64165Z",
     "iopub.status.idle": "2022-11-13T09:19:33.663141Z",
     "shell.execute_reply": "2022-11-13T09:19:33.661715Z",
     "shell.execute_reply.started": "2022-11-13T09:19:33.642813Z"
    }
   },
   "outputs": [],
   "source": [
    "#code by \"Spam Classifier | NLP | 98% Accuracy \" by ANUBHAV GOYAL (https://www.kaggle.com/code/anubhavgoyal10/spam-classifier-nlp-98-accuracy)\n",
    "\n",
    "X = data[\"text\"]\n",
    "y = data['label'].values\n",
    "\n",
    "X_train, X_test, y_train, y_test = train_test_split(X, y, test_size= 0.2, random_state= 42, stratify = y)"
   ]
  },
  {
   "cell_type": "code",
   "execution_count": null,
   "metadata": {
    "execution": {
     "iopub.execute_input": "2022-11-13T09:19:33.665006Z",
     "iopub.status.busy": "2022-11-13T09:19:33.664623Z",
     "iopub.status.idle": "2022-11-13T09:19:33.86951Z",
     "shell.execute_reply": "2022-11-13T09:19:33.868417Z",
     "shell.execute_reply.started": "2022-11-13T09:19:33.66497Z"
    }
   },
   "outputs": [],
   "source": [
    "#code by \"Spam Classifier | NLP | 98% Accuracy \" by ANUBHAV GOYAL (https://www.kaggle.com/code/anubhavgoyal10/spam-classifier-nlp-98-accuracy)\n",
    "\n",
    "tfidf = TfidfVectorizer(max_features= 2500, min_df= 2)\n",
    "X_train = tfidf.fit_transform(X_train).toarray()\n",
    "X_test = tfidf.transform(X_test).toarray()"
   ]
  },
  {
   "cell_type": "code",
   "execution_count": null,
   "metadata": {
    "execution": {
     "iopub.execute_input": "2022-11-13T09:19:33.871398Z",
     "iopub.status.busy": "2022-11-13T09:19:33.871041Z",
     "iopub.status.idle": "2022-11-13T09:19:33.880589Z",
     "shell.execute_reply": "2022-11-13T09:19:33.879764Z",
     "shell.execute_reply.started": "2022-11-13T09:19:33.871368Z"
    }
   },
   "outputs": [],
   "source": [
    "#code by \"Spam Classifier | NLP | 98% Accuracy \" by ANUBHAV GOYAL (https://www.kaggle.com/code/anubhavgoyal10/spam-classifier-nlp-98-accuracy)\n",
    "\n",
    "def train_model(model):\n",
    "    model.fit(X_train, y_train)\n",
    "    y_pred = model.predict(X_test)\n",
    "    y_prob = model.predict_proba(X_test)\n",
    "    accuracy = round(accuracy_score(y_test, y_pred), 3)\n",
    "    precision = round(precision_score(y_test, y_pred), 3)\n",
    "    recall = round(recall_score(y_test, y_pred), 3)\n",
    "\n",
    "    print(f'Accuracy of the model: {accuracy}')\n",
    "    print(f'Precision Score of the model: {precision}')\n",
    "    print(f'Recall Score of the model: {recall}')\n",
    "\n",
    "    sns.set_context('notebook', font_scale= 1.3)\n",
    "    fig, ax = plt.subplots(1, 2, figsize = (25,  8))\n",
    "    ax1 = plot_confusion_matrix(y_test, y_pred, ax= ax[0], cmap= 'YlGnBu')\n",
    "    ax2 = plot_roc(y_test, y_prob, ax= ax[1], plot_macro= False, plot_micro= False, cmap= 'summer')"
   ]
  },
  {
   "cell_type": "code",
   "execution_count": null,
   "metadata": {
    "execution": {
     "iopub.execute_input": "2022-11-13T09:19:33.882317Z",
     "iopub.status.busy": "2022-11-13T09:19:33.881836Z",
     "iopub.status.idle": "2022-11-13T09:19:34.621252Z",
     "shell.execute_reply": "2022-11-13T09:19:34.619742Z",
     "shell.execute_reply.started": "2022-11-13T09:19:33.882288Z"
    }
   },
   "outputs": [],
   "source": [
    "#code by \"Spam Classifier | NLP | 98% Accuracy \" by ANUBHAV GOYAL (https://www.kaggle.com/code/anubhavgoyal10/spam-classifier-nlp-98-accuracy)\n",
    "\n",
    "nb = MultinomialNB()\n",
    "train_model(nb)"
   ]
  },
  {
   "cell_type": "code",
   "execution_count": null,
   "metadata": {
    "execution": {
     "iopub.execute_input": "2022-11-13T09:19:34.623673Z",
     "iopub.status.busy": "2022-11-13T09:19:34.62318Z",
     "iopub.status.idle": "2022-11-13T09:20:31.729347Z",
     "shell.execute_reply": "2022-11-13T09:20:31.727715Z",
     "shell.execute_reply.started": "2022-11-13T09:19:34.623608Z"
    }
   },
   "outputs": [],
   "source": [
    "#code by \"Spam Classifier | NLP | 98% Accuracy \" by ANUBHAV GOYAL (https://www.kaggle.com/code/anubhavgoyal10/spam-classifier-nlp-98-accuracy)\n",
    "\n",
    "rf = RandomForestClassifier(n_estimators= 300)\n",
    "train_model(rf)"
   ]
  },
  {
   "cell_type": "markdown",
   "metadata": {},
   "source": [
    "**Random Forest seems to be better!**"
   ]
  }
 ],
 "metadata": {
  "kernelspec": {
   "display_name": "Python 3 (ipykernel)",
   "language": "python",
   "name": "python3"
  },
  "language_info": {
   "codemirror_mode": {
    "name": "ipython",
    "version": 3
   },
   "file_extension": ".py",
   "mimetype": "text/x-python",
   "name": "python",
   "nbconvert_exporter": "python",
   "pygments_lexer": "ipython3",
   "version": "3.9.7"
  }
 },
 "nbformat": 4,
 "nbformat_minor": 4
}
