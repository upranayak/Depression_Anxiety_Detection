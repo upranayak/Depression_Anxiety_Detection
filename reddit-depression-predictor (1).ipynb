{
 "cells": [
  {
   "cell_type": "code",
   "execution_count": 1,
   "metadata": {
    "_cell_guid": "b1076dfc-b9ad-4769-8c92-a6c4dae69d19",
    "_uuid": "8f2839f25d086af736a60e9eeb907d3b93b6e0e5",
    "execution": {
     "iopub.execute_input": "2022-08-24T07:49:45.264678Z",
     "iopub.status.busy": "2022-08-24T07:49:45.264216Z",
     "iopub.status.idle": "2022-08-24T07:49:46.431712Z",
     "shell.execute_reply": "2022-08-24T07:49:46.430519Z",
     "shell.execute_reply.started": "2022-08-24T07:49:45.264587Z"
    }
   },
   "outputs": [],
   "source": [
    "import numpy as np # linear algebra\n",
    "import pandas as pd # data processing, CSV file I/O (e.g. pd.read_csv)\n",
    "import matplotlib.pyplot as plt\n",
    "import seaborn as sns\n",
    "import os\n",
    "for dirname, _, filenames in os.walk('/kaggle/input'):\n",
    "    for filename in filenames:\n",
    "        print(os.path.join(dirname, filename))"
   ]
  },
  {
   "cell_type": "code",
   "execution_count": 3,
   "metadata": {
    "execution": {
     "iopub.execute_input": "2022-08-24T07:49:46.434522Z",
     "iopub.status.busy": "2022-08-24T07:49:46.434037Z",
     "iopub.status.idle": "2022-08-24T07:49:46.537205Z",
     "shell.execute_reply": "2022-08-24T07:49:46.535843Z",
     "shell.execute_reply.started": "2022-08-24T07:49:46.434476Z"
    }
   },
   "outputs": [
    {
     "data": {
      "text/html": [
       "<div>\n",
       "<style scoped>\n",
       "    .dataframe tbody tr th:only-of-type {\n",
       "        vertical-align: middle;\n",
       "    }\n",
       "\n",
       "    .dataframe tbody tr th {\n",
       "        vertical-align: top;\n",
       "    }\n",
       "\n",
       "    .dataframe thead th {\n",
       "        text-align: right;\n",
       "    }\n",
       "</style>\n",
       "<table border=\"1\" class=\"dataframe\">\n",
       "  <thead>\n",
       "    <tr style=\"text-align: right;\">\n",
       "      <th></th>\n",
       "      <th>clean_text</th>\n",
       "      <th>is_depression</th>\n",
       "    </tr>\n",
       "  </thead>\n",
       "  <tbody>\n",
       "    <tr>\n",
       "      <th>0</th>\n",
       "      <td>we understand that most people who reply immed...</td>\n",
       "      <td>1</td>\n",
       "    </tr>\n",
       "    <tr>\n",
       "      <th>1</th>\n",
       "      <td>welcome to r depression s check in post a plac...</td>\n",
       "      <td>1</td>\n",
       "    </tr>\n",
       "    <tr>\n",
       "      <th>2</th>\n",
       "      <td>anyone else instead of sleeping more when depr...</td>\n",
       "      <td>1</td>\n",
       "    </tr>\n",
       "    <tr>\n",
       "      <th>3</th>\n",
       "      <td>i ve kind of stuffed around a lot in my life d...</td>\n",
       "      <td>1</td>\n",
       "    </tr>\n",
       "    <tr>\n",
       "      <th>4</th>\n",
       "      <td>sleep is my greatest and most comforting escap...</td>\n",
       "      <td>1</td>\n",
       "    </tr>\n",
       "  </tbody>\n",
       "</table>\n",
       "</div>"
      ],
      "text/plain": [
       "                                          clean_text  is_depression\n",
       "0  we understand that most people who reply immed...              1\n",
       "1  welcome to r depression s check in post a plac...              1\n",
       "2  anyone else instead of sleeping more when depr...              1\n",
       "3  i ve kind of stuffed around a lot in my life d...              1\n",
       "4  sleep is my greatest and most comforting escap...              1"
      ]
     },
     "execution_count": 3,
     "metadata": {},
     "output_type": "execute_result"
    }
   ],
   "source": [
    "data=pd.read_csv(\"depression_dataset_reddit_cleaned.csv\")\n",
    "data.head()"
   ]
  },
  {
   "cell_type": "code",
   "execution_count": 4,
   "metadata": {
    "execution": {
     "iopub.execute_input": "2022-08-24T07:49:46.540187Z",
     "iopub.status.busy": "2022-08-24T07:49:46.538899Z",
     "iopub.status.idle": "2022-08-24T07:49:46.768543Z",
     "shell.execute_reply": "2022-08-24T07:49:46.767208Z",
     "shell.execute_reply.started": "2022-08-24T07:49:46.540132Z"
    }
   },
   "outputs": [
    {
     "data": {
      "text/plain": [
       "<AxesSubplot:xlabel='is_depression', ylabel='count'>"
      ]
     },
     "execution_count": 4,
     "metadata": {},
     "output_type": "execute_result"
    },
    {
     "data": {
      "image/png": "[encoded data removed]",
      "text/plain": [
       "<Figure size 432x288 with 1 Axes>"
      ]
     },
     "metadata": {
      "needs_background": "light"
     },
     "output_type": "display_data"
    }
   ],
   "source": [
    "sns.countplot(data=data,x=\"is_depression\")"
   ]
  },
  {
   "cell_type": "code",
   "execution_count": 5,
   "metadata": {
    "execution": {
     "iopub.execute_input": "2022-08-24T07:49:46.772699Z",
     "iopub.status.busy": "2022-08-24T07:49:46.772222Z",
     "iopub.status.idle": "2022-08-24T07:49:47.626715Z",
     "shell.execute_reply": "2022-08-24T07:49:47.625496Z",
     "shell.execute_reply.started": "2022-08-24T07:49:46.772655Z"
    }
   },
   "outputs": [],
   "source": [
    "import re\n",
    "import nltk"
   ]
  },
  {
   "cell_type": "code",
   "execution_count": 6,
   "metadata": {
    "execution": {
     "iopub.execute_input": "2022-08-24T07:49:47.629585Z",
     "iopub.status.busy": "2022-08-24T07:49:47.62817Z",
     "iopub.status.idle": "2022-08-24T07:49:48.376947Z",
     "shell.execute_reply": "2022-08-24T07:49:48.375531Z",
     "shell.execute_reply.started": "2022-08-24T07:49:47.629551Z"
    }
   },
   "outputs": [
    {
     "name": "stderr",
     "output_type": "stream",
     "text": [
      "[nltk_data] Error loading omw-1.4: <urlopen error [WinError 10054] An\n",
      "[nltk_data]     existing connection was forcibly closed by the remote\n",
      "[nltk_data]     host>\n"
     ]
    },
    {
     "data": {
      "text/plain": [
       "False"
      ]
     },
     "execution_count": 6,
     "metadata": {},
     "output_type": "execute_result"
    }
   ],
   "source": [
    "import nltk\n",
    "nltk.download('omw-1.4')"
   ]
  },
  {
   "cell_type": "code",
   "execution_count": 7,
   "metadata": {
    "execution": {
     "iopub.execute_input": "2022-08-24T07:49:48.379418Z",
     "iopub.status.busy": "2022-08-24T07:49:48.378786Z",
     "iopub.status.idle": "2022-08-24T07:49:48.391208Z",
     "shell.execute_reply": "2022-08-24T07:49:48.389673Z",
     "shell.execute_reply.started": "2022-08-24T07:49:48.379382Z"
    }
   },
   "outputs": [
    {
     "name": "stderr",
     "output_type": "stream",
     "text": [
      "[nltk_data] Error loading stopwords: <urlopen error [WinError 10054]\n",
      "[nltk_data]     An existing connection was forcibly closed by the\n",
      "[nltk_data]     remote host>\n"
     ]
    }
   ],
   "source": [
    "nltk.download(\"stopwords\")\n",
    "from nltk.corpus import stopwords"
   ]
  },
  {
   "cell_type": "code",
   "execution_count": 8,
   "metadata": {
    "execution": {
     "iopub.execute_input": "2022-08-24T07:49:48.394153Z",
     "iopub.status.busy": "2022-08-24T07:49:48.393242Z",
     "iopub.status.idle": "2022-08-24T07:49:48.400252Z",
     "shell.execute_reply": "2022-08-24T07:49:48.398914Z",
     "shell.execute_reply.started": "2022-08-24T07:49:48.394097Z"
    }
   },
   "outputs": [],
   "source": [
    "lemmatize=nltk.WordNetLemmatizer()"
   ]
  },
  {
   "cell_type": "code",
   "execution_count": 9,
   "metadata": {
    "execution": {
     "iopub.execute_input": "2022-08-24T07:49:48.403302Z",
     "iopub.status.busy": "2022-08-24T07:49:48.402414Z",
     "iopub.status.idle": "2022-08-24T07:50:05.417864Z",
     "shell.execute_reply": "2022-08-24T07:50:05.416583Z",
     "shell.execute_reply.started": "2022-08-24T07:49:48.403254Z"
    }
   },
   "outputs": [],
   "source": [
    "texts=[]\n",
    "for i in data.clean_text:\n",
    "    text=re.sub(\"[^a-zA-Z]\",\" \",i) # it removes unalfabetic signs\n",
    "    text=nltk.word_tokenize(text,language=\"english\") # it tokenizes our words\n",
    "    text=[lemmatize.lemmatize(word) for word in i] # it lemmatizes our words\n",
    "    text=\"\".join(text) # Make our tokenize into sentences\n",
    "    texts.append(text) #appending to list"
   ]
  },
  {
   "cell_type": "code",
   "execution_count": 10,
   "metadata": {
    "execution": {
     "iopub.execute_input": "2022-08-24T07:50:05.419769Z",
     "iopub.status.busy": "2022-08-24T07:50:05.41939Z",
     "iopub.status.idle": "2022-08-24T07:50:05.425954Z",
     "shell.execute_reply": "2022-08-24T07:50:05.424374Z",
     "shell.execute_reply.started": "2022-08-24T07:50:05.419735Z"
    }
   },
   "outputs": [],
   "source": [
    "from sklearn.feature_extraction.text import CountVectorizer"
   ]
  },
  {
   "cell_type": "code",
   "execution_count": 11,
   "metadata": {
    "execution": {
     "iopub.execute_input": "2022-08-24T07:50:05.43108Z",
     "iopub.status.busy": "2022-08-24T07:50:05.430549Z",
     "iopub.status.idle": "2022-08-24T07:50:05.438308Z",
     "shell.execute_reply": "2022-08-24T07:50:05.437187Z",
     "shell.execute_reply.started": "2022-08-24T07:50:05.43103Z"
    }
   },
   "outputs": [],
   "source": [
    "count=CountVectorizer(stop_words=\"english\",max_features=550)#it removes unnecesarry words and finds most using 550 words"
   ]
  },
  {
   "cell_type": "code",
   "execution_count": 12,
   "metadata": {
    "execution": {
     "iopub.execute_input": "2022-08-24T07:50:05.442713Z",
     "iopub.status.busy": "2022-08-24T07:50:05.442015Z",
     "iopub.status.idle": "2022-08-24T07:50:05.883534Z",
     "shell.execute_reply": "2022-08-24T07:50:05.882328Z",
     "shell.execute_reply.started": "2022-08-24T07:50:05.442664Z"
    }
   },
   "outputs": [],
   "source": [
    "matrix=count.fit_transform(texts).toarray() # it crates a matrix and we must transform it to a array otherwise our algorithm does not work."
   ]
  },
  {
   "cell_type": "code",
   "execution_count": 13,
   "metadata": {
    "execution": {
     "iopub.execute_input": "2022-08-24T07:50:05.886066Z",
     "iopub.status.busy": "2022-08-24T07:50:05.885427Z",
     "iopub.status.idle": "2022-08-24T07:50:05.890898Z",
     "shell.execute_reply": "2022-08-24T07:50:05.889695Z",
     "shell.execute_reply.started": "2022-08-24T07:50:05.886029Z"
    }
   },
   "outputs": [],
   "source": [
    "x=matrix\n",
    "y=data[\"is_depression\"].values"
   ]
  },
  {
   "cell_type": "code",
   "execution_count": 14,
   "metadata": {
    "execution": {
     "iopub.execute_input": "2022-08-24T07:50:05.89371Z",
     "iopub.status.busy": "2022-08-24T07:50:05.893006Z",
     "iopub.status.idle": "2022-08-24T07:50:05.901798Z",
     "shell.execute_reply": "2022-08-24T07:50:05.900644Z",
     "shell.execute_reply.started": "2022-08-24T07:50:05.893666Z"
    }
   },
   "outputs": [],
   "source": [
    "from sklearn.model_selection import train_test_split"
   ]
  },
  {
   "cell_type": "code",
   "execution_count": 15,
   "metadata": {
    "execution": {
     "iopub.execute_input": "2022-08-24T07:50:05.904241Z",
     "iopub.status.busy": "2022-08-24T07:50:05.903492Z",
     "iopub.status.idle": "2022-08-24T07:50:05.935406Z",
     "shell.execute_reply": "2022-08-24T07:50:05.934085Z",
     "shell.execute_reply.started": "2022-08-24T07:50:05.904196Z"
    }
   },
   "outputs": [],
   "source": [
    "x_train,x_test,y_train,y_test=train_test_split(x,y,test_size=0.33,random_state=42)\n"
   ]
  },
  {
   "cell_type": "code",
   "execution_count": 16,
   "metadata": {
    "execution": {
     "iopub.execute_input": "2022-08-24T07:50:05.939595Z",
     "iopub.status.busy": "2022-08-24T07:50:05.939153Z",
     "iopub.status.idle": "2022-08-24T07:50:05.94669Z",
     "shell.execute_reply": "2022-08-24T07:50:05.945859Z",
     "shell.execute_reply.started": "2022-08-24T07:50:05.939558Z"
    }
   },
   "outputs": [],
   "source": [
    "from sklearn.naive_bayes import GaussianNB"
   ]
  },
  {
   "cell_type": "code",
   "execution_count": 17,
   "metadata": {
    "execution": {
     "iopub.execute_input": "2022-08-24T07:50:05.949263Z",
     "iopub.status.busy": "2022-08-24T07:50:05.9488Z",
     "iopub.status.idle": "2022-08-24T07:50:05.95582Z",
     "shell.execute_reply": "2022-08-24T07:50:05.95457Z",
     "shell.execute_reply.started": "2022-08-24T07:50:05.949229Z"
    }
   },
   "outputs": [],
   "source": [
    "nb=GaussianNB()"
   ]
  },
  {
   "cell_type": "code",
   "execution_count": 18,
   "metadata": {
    "execution": {
     "iopub.execute_input": "2022-08-24T07:50:05.957661Z",
     "iopub.status.busy": "2022-08-24T07:50:05.957278Z",
     "iopub.status.idle": "2022-08-24T07:50:06.024106Z",
     "shell.execute_reply": "2022-08-24T07:50:06.023137Z",
     "shell.execute_reply.started": "2022-08-24T07:50:05.957629Z"
    }
   },
   "outputs": [
    {
     "data": {
      "text/plain": [
       "GaussianNB()"
      ]
     },
     "execution_count": 18,
     "metadata": {},
     "output_type": "execute_result"
    }
   ],
   "source": [
    "nb.fit(x_train,y_train)"
   ]
  },
  {
   "cell_type": "code",
   "execution_count": 19,
   "metadata": {
    "execution": {
     "iopub.execute_input": "2022-08-24T07:50:36.372633Z",
     "iopub.status.busy": "2022-08-24T07:50:36.37209Z",
     "iopub.status.idle": "2022-08-24T07:50:36.403169Z",
     "shell.execute_reply": "2022-08-24T07:50:36.400906Z",
     "shell.execute_reply.started": "2022-08-24T07:50:36.372588Z"
    }
   },
   "outputs": [
    {
     "data": {
      "text/plain": [
       "0.9322100313479624"
      ]
     },
     "execution_count": 19,
     "metadata": {},
     "output_type": "execute_result"
    }
   ],
   "source": [
    "nb.score(x_test,y_test)"
   ]
  },
  {
   "cell_type": "code",
   "execution_count": 20,
   "metadata": {
    "execution": {
     "iopub.execute_input": "2022-08-24T07:51:13.094542Z",
     "iopub.status.busy": "2022-08-24T07:51:13.094097Z",
     "iopub.status.idle": "2022-08-24T07:51:13.100119Z",
     "shell.execute_reply": "2022-08-24T07:51:13.09889Z",
     "shell.execute_reply.started": "2022-08-24T07:51:13.094496Z"
    }
   },
   "outputs": [],
   "source": [
    "from sklearn.metrics import confusion_matrix"
   ]
  },
  {
   "cell_type": "code",
   "execution_count": 21,
   "metadata": {
    "execution": {
     "iopub.execute_input": "2022-08-24T07:51:27.332956Z",
     "iopub.status.busy": "2022-08-24T07:51:27.332487Z",
     "iopub.status.idle": "2022-08-24T07:51:27.360686Z",
     "shell.execute_reply": "2022-08-24T07:51:27.359769Z",
     "shell.execute_reply.started": "2022-08-24T07:51:27.332917Z"
    }
   },
   "outputs": [
    {
     "data": {
      "text/plain": [
       "array([[1228,   69],\n",
       "       [ 104, 1151]], dtype=int64)"
      ]
     },
     "execution_count": 21,
     "metadata": {},
     "output_type": "execute_result"
    }
   ],
   "source": [
    "confusion_matrix(y_test,nb.predict(x_test))"
   ]
  },
  {
   "cell_type": "code",
   "execution_count": null,
   "metadata": {},
   "outputs": [],
   "source": []
  }
 ],
 "metadata": {
  "kernelspec": {
   "display_name": "Python 3 (ipykernel)",
   "language": "python",
   "name": "python3"
  },
  "language_info": {
   "codemirror_mode": {
    "name": "ipython",
    "version": 3
   },
   "file_extension": ".py",
   "mimetype": "text/x-python",
   "name": "python",
   "nbconvert_exporter": "python",
   "pygments_lexer": "ipython3",
   "version": "3.9.7"
  }
 },
 "nbformat": 4,
 "nbformat_minor": 4
}
